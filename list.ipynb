{
 "cells": [
  {
   "cell_type": "code",
   "execution_count": 3,
   "id": "1f3d0d96",
   "metadata": {},
   "outputs": [
    {
     "data": {
      "text/plain": [
       "[500, 400, 300, 200, 100]"
      ]
     },
     "execution_count": 3,
     "metadata": {},
     "output_type": "execute_result"
    }
   ],
   "source": [
    "#xercise 1: Reverse a list in Pythonlist1 = [100, 200, 300, 400, 500]\n",
    "list1.reverse()\n",
    "list1"
   ]
  },
  {
   "cell_type": "code",
   "execution_count": 5,
   "id": "08c44091",
   "metadata": {},
   "outputs": [
    {
     "data": {
      "text/plain": [
       "['My', 'name', 'is', 'Kelly']"
      ]
     },
     "execution_count": 5,
     "metadata": {},
     "output_type": "execute_result"
    }
   ],
   "source": [
    "#Exercise 2: Concatenate two lists index-wise\n",
    "list1 = [\"M\", \"na\", \"i\", \"Ke\"]\n",
    "list2 = [\"y\", \"me\", \"s\", \"lly\"]\n",
    "for i in range(0, len(list1)):\n",
    "    list1[i] = list1[i] + list2[i]\n",
    "\n",
    "list1"
   ]
  },
  {
   "cell_type": "code",
   "execution_count": 6,
   "id": "a26d0644",
   "metadata": {},
   "outputs": [
    {
     "data": {
      "text/plain": [
       "[1, 4, 9, 16, 25, 36, 49]"
      ]
     },
     "execution_count": 6,
     "metadata": {},
     "output_type": "execute_result"
    }
   ],
   "source": [
    "#Exercise 3: Turn every item of a list into its square\n",
    "numbers = [1, 2, 3, 4, 5, 6, 7]\n",
    "num=[]\n",
    "for i in numbers:\n",
    "    num.append(i*i)\n",
    "num"
   ]
  },
  {
   "cell_type": "code",
   "execution_count": 7,
   "id": "4ada3794",
   "metadata": {},
   "outputs": [
    {
     "data": {
      "text/plain": [
       "['Hello Dear', 'take Sir']"
      ]
     },
     "execution_count": 7,
     "metadata": {},
     "output_type": "execute_result"
    }
   ],
   "source": [
    "#Exercise 4: Concatenate two lists in the following order\n",
    "list1 = [\"Hello \", \"take \"]\n",
    "list2 = [\"Dear\", \"Sir\"]\n",
    "for i in range(0,len(list1)):\n",
    "    list1[i]=list1[i]+list2[i]\n",
    "\n",
    "list1"
   ]
  },
  {
   "cell_type": "code",
   "execution_count": 10,
   "id": "ab5c624b",
   "metadata": {},
   "outputs": [
    {
     "name": "stdout",
     "output_type": "stream",
     "text": [
      "10  400\n",
      "20  300\n",
      "30  200\n",
      "40  100\n"
     ]
    }
   ],
   "source": [
    "#Exercise 5: Iterate both lists simultaneously\n",
    "list1 = [10, 20, 30, 40]\n",
    "list2 = [100, 200, 300, 400]\n",
    "list2.reverse()\n",
    "for i in range(0,len(list1)):\n",
    "    print(list1[i],\"\",list2[i])\n"
   ]
  },
  {
   "cell_type": "code",
   "execution_count": 17,
   "id": "629f24ab",
   "metadata": {},
   "outputs": [
    {
     "name": "stdout",
     "output_type": "stream",
     "text": [
      "['Mike', 'Emma', 'Kelly', 'Brad']\n"
     ]
    }
   ],
   "source": [
    "#Exercise 6: Remove empty strings from the list of strings\n",
    "list1 = [\"Mike\", \"\", \"Emma\", \"Kelly\", \"\", \"Brad\"]\n",
    "res = list(filter(None, list1))\n",
    "print(res)"
   ]
  },
  {
   "cell_type": "code",
   "execution_count": 18,
   "id": "98a1a814",
   "metadata": {},
   "outputs": [
    {
     "data": {
      "text/plain": [
       "[10, 20, [300, 400, [5000, 6000, 7000], 500], 30, 40]"
      ]
     },
     "execution_count": 18,
     "metadata": {},
     "output_type": "execute_result"
    }
   ],
   "source": [
    "#Exercise 7: Add new item to list after a specified item\n",
    "list1 = [10, 20, [300, 400, [5000, 6000], 500], 30, 40]\n",
    "list1[2][2].append(7000)\n",
    "list1"
   ]
  },
  {
   "cell_type": "code",
   "execution_count": 19,
   "id": "6fdee7b0",
   "metadata": {},
   "outputs": [
    {
     "data": {
      "text/plain": [
       "['a', 'b', ['c', ['d', 'e', ['f', 'g', 'h', 'i', 'j'], 'k'], 'l'], 'm', 'n']"
      ]
     },
     "execution_count": 19,
     "metadata": {},
     "output_type": "execute_result"
    }
   ],
   "source": [
    "#Exercise 8: Extend nested list by adding the sublist\n",
    "list1 = [\"a\", \"b\", [\"c\", [\"d\", \"e\", [\"f\", \"g\"], \"k\"], \"l\"], \"m\", \"n\"]\n",
    "sub_list = [\"h\", \"i\", \"j\"]\n",
    "list1[2][1][2].extend(sub_list)\n",
    "list1"
   ]
  },
  {
   "cell_type": "code",
   "execution_count": 20,
   "id": "5679cc9d",
   "metadata": {},
   "outputs": [
    {
     "data": {
      "text/plain": [
       "[5, 10, 15, 200, 25, 50, 20]"
      ]
     },
     "execution_count": 20,
     "metadata": {},
     "output_type": "execute_result"
    }
   ],
   "source": [
    "#Exercise 9: Replace list’s item with new value if found\n",
    "list1 = [5, 10, 15, 20, 25, 50, 20]\n",
    "idx=list1.index(20)\n",
    "list1[idx]=200\n",
    "list1"
   ]
  },
  {
   "cell_type": "code",
   "execution_count": 23,
   "id": "d022d811",
   "metadata": {},
   "outputs": [
    {
     "data": {
      "text/plain": [
       "[5, 15, 25, 50]"
      ]
     },
     "execution_count": 23,
     "metadata": {},
     "output_type": "execute_result"
    }
   ],
   "source": [
    "#Exercise 10: Remove all occurrences of a specific item from a list.\n",
    "list1 = [5, 20, 15, 20, 25, 50, 20]\n",
    "list1 = [i for i in list1 if i != 20]\n",
    "list1"
   ]
  },
  {
   "cell_type": "code",
   "execution_count": null,
   "id": "34ef9cc3",
   "metadata": {},
   "outputs": [],
   "source": []
  }
 ],
 "metadata": {
  "kernelspec": {
   "display_name": "Python 3 (ipykernel)",
   "language": "python",
   "name": "python3"
  },
  "language_info": {
   "codemirror_mode": {
    "name": "ipython",
    "version": 3
   },
   "file_extension": ".py",
   "mimetype": "text/x-python",
   "name": "python",
   "nbconvert_exporter": "python",
   "pygments_lexer": "ipython3",
   "version": "3.10.9"
  }
 },
 "nbformat": 4,
 "nbformat_minor": 5
}
