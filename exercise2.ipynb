{
 "cells": [
  {
   "cell_type": "code",
   "execution_count": 2,
   "id": "8b4ba832",
   "metadata": {},
   "outputs": [
    {
     "name": "stdout",
     "output_type": "stream",
     "text": [
      "Enter a5\n",
      "Enter b4\n",
      "20\n"
     ]
    }
   ],
   "source": [
    "#Exercise 1: Accept numbers from a user\n",
    "\n",
    "def mult(a,b):\n",
    "    return a*b\n",
    "\n",
    "a=int(input(\"Enter a \"))\n",
    "b=int(input(\"Enter b \"))\n",
    "print(mult(a,b))"
   ]
  },
  {
   "cell_type": "code",
   "execution_count": 3,
   "id": "98c60909",
   "metadata": {},
   "outputs": [
    {
     "name": "stdout",
     "output_type": "stream",
     "text": [
      "My**Name**Is**James\n"
     ]
    }
   ],
   "source": [
    "#Exercise 2: Display three string “Name”, “Is”, “James” as “Name**Is**James”\n",
    "print('My','Name','Is','James',sep='**')"
   ]
  },
  {
   "cell_type": "code",
   "execution_count": 4,
   "id": "5a3062e0",
   "metadata": {},
   "outputs": [
    {
     "name": "stdout",
     "output_type": "stream",
     "text": [
      "0o10\n"
     ]
    }
   ],
   "source": [
    "#Exercise 3: Convert Decimal number to octal using print() output formatting\n",
    "print(oct(8))"
   ]
  },
  {
   "cell_type": "code",
   "execution_count": 6,
   "id": "94badb1f",
   "metadata": {},
   "outputs": [
    {
     "name": "stdout",
     "output_type": "stream",
     "text": [
      "10.35\n"
     ]
    }
   ],
   "source": [
    "#Exercise 4: Display float number with 2 decimal places using print()\n",
    "num=10.34532\n",
    "print('%.2f'%num)"
   ]
  },
  {
   "cell_type": "code",
   "execution_count": 1,
   "id": "cd307e8b",
   "metadata": {},
   "outputs": [
    {
     "name": "stdout",
     "output_type": "stream",
     "text": [
      "2.34\n",
      "4.211\n",
      "9.323\n",
      "321.342\n",
      "11.543\n",
      "[2.34, 4.211, 9.323, 321.342, 11.543]\n"
     ]
    }
   ],
   "source": [
    "#Exercise 5: Accept a list of 5 float numbers as an input from the user\n",
    "lst=[]\n",
    "for i in range(5):\n",
    "    lst.append(float(input()))\n",
    "print(lst)"
   ]
  },
  {
   "cell_type": "code",
   "execution_count": 3,
   "id": "be456741",
   "metadata": {},
   "outputs": [],
   "source": [
    "#Exercise 6: Write all content of a given file into a new file by skipping line number 5\n",
    "with open(\"test.txt\",\"r\") as tt:\n",
    "    lines=tt.readlines()\n",
    "with open(\"test2.txt\",\"w\") as tt:\n",
    "    cnt=0\n",
    "    for i in lines:\n",
    "        if cnt==4:\n",
    "            cnt+=1\n",
    "            continue\n",
    "        else:\n",
    "            tt.write(i)\n",
    "        cnt+=1"
   ]
  },
  {
   "cell_type": "code",
   "execution_count": 6,
   "id": "665d60ad",
   "metadata": {},
   "outputs": [
    {
     "name": "stdout",
     "output_type": "stream",
     "text": [
      "Enter name1, Enter name2, Enter name3Anant Nipun Udit\n",
      "Anant Nipun Udit\n"
     ]
    }
   ],
   "source": [
    "#Exercise 7: Accept any three string from one input() call\n",
    "name1,name2,name3=input(\"Enter name1, Enter name2, Enter name3\").split()\n",
    "print(name1,name2,name3)"
   ]
  },
  {
   "cell_type": "code",
   "execution_count": 7,
   "id": "1b3d779d",
   "metadata": {},
   "outputs": [
    {
     "name": "stdout",
     "output_type": "stream",
     "text": [
      "I have 1000 dollars so I can buy 3 football for 450.00 dollars.\n"
     ]
    }
   ],
   "source": [
    "#Exercise 8: Format variables using a string.format() method.\n",
    "quantity = 3\n",
    "totalMoney = 1000\n",
    "price = 450\n",
    "statement1 = \"I have {1} dollars so I can buy {0} football for {2:.2f} dollars.\"\n",
    "print(statement1.format(quantity, totalMoney, price))"
   ]
  },
  {
   "cell_type": "code",
   "execution_count": 10,
   "id": "5b933f30",
   "metadata": {},
   "outputs": [
    {
     "data": {
      "text/plain": [
       "41"
      ]
     },
     "execution_count": 10,
     "metadata": {},
     "output_type": "execute_result"
    }
   ],
   "source": [
    "#Exercise 9: Check file is empty or not\n",
    "import os\n",
    "os.stat('test.txt').st_size"
   ]
  },
  {
   "cell_type": "code",
   "execution_count": 12,
   "id": "75429fb9",
   "metadata": {},
   "outputs": [
    {
     "name": "stdout",
     "output_type": "stream",
     "text": [
      "line4\n",
      "\n"
     ]
    }
   ],
   "source": [
    "#Exercise 10: Read line number 4 from the following file\n",
    "with open('test.txt','r') as tt:\n",
    "    lines=tt.readlines()\n",
    "    print(lines[3])"
   ]
  },
  {
   "cell_type": "code",
   "execution_count": null,
   "id": "fcb9721b",
   "metadata": {},
   "outputs": [],
   "source": []
  }
 ],
 "metadata": {
  "kernelspec": {
   "display_name": "Python 3 (ipykernel)",
   "language": "python",
   "name": "python3"
  },
  "language_info": {
   "codemirror_mode": {
    "name": "ipython",
    "version": 3
   },
   "file_extension": ".py",
   "mimetype": "text/x-python",
   "name": "python",
   "nbconvert_exporter": "python",
   "pygments_lexer": "ipython3",
   "version": "3.10.9"
  }
 },
 "nbformat": 4,
 "nbformat_minor": 5
}
