{
 "cells": [
  {
   "cell_type": "code",
   "execution_count": 2,
   "id": "c45bedc8",
   "metadata": {},
   "outputs": [
    {
     "name": "stdout",
     "output_type": "stream",
     "text": [
      "Name :  Rohit\n",
      "Age :  19\n"
     ]
    }
   ],
   "source": [
    "#Exercise 1: Create a function in Python\n",
    "def solve(name,age):\n",
    "    print(\"Name : \",name)\n",
    "    print(\"Age : \",age)\n",
    "\n",
    "solve(\"Rohit\",19)"
   ]
  },
  {
   "cell_type": "code",
   "execution_count": 3,
   "id": "5f4593be",
   "metadata": {},
   "outputs": [
    {
     "name": "stdout",
     "output_type": "stream",
     "text": [
      "20\n",
      "40\n",
      "60\n",
      "80\n",
      "100\n"
     ]
    }
   ],
   "source": [
    "#Exercise 2: Create a function with variable length of arguments\n",
    "def solve(*args):\n",
    "    for i in args:\n",
    "        print(i)\n",
    "\n",
    "solve(20,40,60)\n",
    "solve(80,100)"
   ]
  },
  {
   "cell_type": "code",
   "execution_count": 4,
   "id": "e60ec623",
   "metadata": {},
   "outputs": [
    {
     "name": "stdout",
     "output_type": "stream",
     "text": [
      "7 3\n"
     ]
    }
   ],
   "source": [
    "#Exercise 3: Return multiple values from a function\n",
    "def calc(a,b):\n",
    "    print(a+b,a-b)\n",
    "calc(5,2)"
   ]
  },
  {
   "cell_type": "code",
   "execution_count": 5,
   "id": "47f0a865",
   "metadata": {},
   "outputs": [
    {
     "name": "stdout",
     "output_type": "stream",
     "text": [
      "ben 12000\n",
      "jessa 9000\n"
     ]
    }
   ],
   "source": [
    "#Exercise 4: Create a function with a default argument\n",
    "def show_employee(name,salary=9000):\n",
    "    print(name,salary)\n",
    "\n",
    "show_employee(\"ben\",12000)\n",
    "show_employee(\"jessa\")"
   ]
  },
  {
   "cell_type": "code",
   "execution_count": 6,
   "id": "3f9b59d9",
   "metadata": {},
   "outputs": [
    {
     "name": "stdout",
     "output_type": "stream",
     "text": [
      "12\n"
     ]
    }
   ],
   "source": [
    "#Exercise 5: Create an inner function to calculate the addition in the following way\n",
    "def outer(a,b):\n",
    "    def inner(a,b):\n",
    "        return a+b\n",
    "    return 5+inner(a,b)\n",
    "print(outer(3,4))"
   ]
  },
  {
   "cell_type": "code",
   "execution_count": 16,
   "id": "1edf7a65",
   "metadata": {},
   "outputs": [
    {
     "name": "stdout",
     "output_type": "stream",
     "text": [
      "10\n",
      "55\n"
     ]
    }
   ],
   "source": [
    "#Exercise 6: Create a recursive function\n",
    "def summ(n):\n",
    "    if n==0:\n",
    "        return 0\n",
    "    return n + summ(n-1)\n",
    "\n",
    "n=int(input())\n",
    "print(summ(n))"
   ]
  },
  {
   "cell_type": "code",
   "execution_count": 17,
   "id": "c7ae561e",
   "metadata": {},
   "outputs": [
    {
     "name": "stdout",
     "output_type": "stream",
     "text": [
      "Emma 26\n",
      "Emma 26\n"
     ]
    }
   ],
   "source": [
    "#Exercise 7: Assign a different name to function and call it through the new name\n",
    "def display_student(name,age):\n",
    "    print(name,age)\n",
    "\n",
    "display_student(\"Emma\",26)\n",
    "showStudent=display_student\n",
    "showStudent(\"Emma\",26)"
   ]
  },
  {
   "cell_type": "code",
   "execution_count": 19,
   "id": "976fd363",
   "metadata": {},
   "outputs": [
    {
     "name": "stdout",
     "output_type": "stream",
     "text": [
      "[4, 6, 8, 10, 12, 14, 16, 18, 20, 22, 24, 26, 28]\n"
     ]
    }
   ],
   "source": [
    "#Exercise 8: Generate a Python list of all the even numbers between 4 to 30\n",
    "lst=[]\n",
    "for i in range(4,30):\n",
    "    if i%2==0:\n",
    "        lst.append(i)\n",
    "print(lst)"
   ]
  },
  {
   "cell_type": "code",
   "execution_count": 20,
   "id": "8aab46eb",
   "metadata": {},
   "outputs": [
    {
     "name": "stdout",
     "output_type": "stream",
     "text": [
      "24\n"
     ]
    }
   ],
   "source": [
    "#Exercise 9: Find the largest item from a given list\n",
    "def solve(x):\n",
    "    maxx=x[0]\n",
    "    for i in x:\n",
    "        if i>maxx:\n",
    "            maxx=i\n",
    "    return maxx\n",
    "    \n",
    "\n",
    "x = [4, 6, 8, 24, 12, 2]\n",
    "print(solve(x))"
   ]
  },
  {
   "cell_type": "code",
   "execution_count": null,
   "id": "5062ddee",
   "metadata": {},
   "outputs": [],
   "source": []
  }
 ],
 "metadata": {
  "kernelspec": {
   "display_name": "Python 3 (ipykernel)",
   "language": "python",
   "name": "python3"
  },
  "language_info": {
   "codemirror_mode": {
    "name": "ipython",
    "version": 3
   },
   "file_extension": ".py",
   "mimetype": "text/x-python",
   "name": "python",
   "nbconvert_exporter": "python",
   "pygments_lexer": "ipython3",
   "version": "3.10.9"
  }
 },
 "nbformat": 4,
 "nbformat_minor": 5
}
