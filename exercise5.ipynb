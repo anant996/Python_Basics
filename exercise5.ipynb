{
 "cells": [
  {
   "cell_type": "code",
   "execution_count": 6,
   "id": "f2d176c4",
   "metadata": {},
   "outputs": [
    {
     "name": "stdout",
     "output_type": "stream",
     "text": [
      "Jms\n"
     ]
    }
   ],
   "source": [
    "#Exercise 1A: Create a string made of the first, middle and last character\n",
    "str1 = \"James\"\n",
    "f=str1[0]\n",
    "mid=int(len(str1)/2)\n",
    "m=str1[mid]\n",
    "l=str1[len(str1)-1]\n",
    "res=f+m+l\n",
    "print(res)"
   ]
  },
  {
   "cell_type": "code",
   "execution_count": 11,
   "id": "5ac0fc61",
   "metadata": {},
   "outputs": [
    {
     "name": "stdout",
     "output_type": "stream",
     "text": [
      "Dip\n"
     ]
    }
   ],
   "source": [
    "#Exercise 1B: Create a string made of the middle three characters\n",
    "def mid_chars(str):\n",
    "    mid=int(len(str)/2)\n",
    "    res=str[mid-1:mid+2]\n",
    "    print(res)\n",
    "\n",
    "mid_chars(\"JhonDipPeta\")"
   ]
  },
  {
   "cell_type": "code",
   "execution_count": 14,
   "id": "97cdc67f",
   "metadata": {},
   "outputs": [
    {
     "name": "stdout",
     "output_type": "stream",
     "text": [
      "AuKellylt\n"
     ]
    }
   ],
   "source": [
    "#Exercise 2: Append new string in the middle of a given string\n",
    "s1 = \"Ault\"\n",
    "s2 = \"Kelly\"\n",
    "mid=len(s1)//2\n",
    "s3=s1[:mid]+s2+s1[mid:]\n",
    "print(s3)\n"
   ]
  },
  {
   "cell_type": "code",
   "execution_count": 15,
   "id": "a22bc4b5",
   "metadata": {},
   "outputs": [
    {
     "name": "stdout",
     "output_type": "stream",
     "text": [
      "AJrpan\n"
     ]
    }
   ],
   "source": [
    "#Exercise 3: Create a new string made of the first, middle, and last characters of each input string\n",
    "s1 = \"America\"\n",
    "s2 = \"Japan\"\n",
    "\n",
    "m1=int(len(s1)/2)\n",
    "m2=int(len(s2)/2)\n",
    "\n",
    "res=s1[0]+s2[0]+s1[m1]+s2[m2]+s1[len(s1)-1]+s2[len(s2)-1]\n",
    "print(res)"
   ]
  },
  {
   "cell_type": "code",
   "execution_count": 17,
   "id": "87b18df4",
   "metadata": {},
   "outputs": [
    {
     "name": "stdout",
     "output_type": "stream",
     "text": [
      "yaivePNT\n"
     ]
    }
   ],
   "source": [
    "#Exercise 4: Arrange string characters such that lowercase letters should come first\n",
    "str1 = \"PyNaTive\"\n",
    "lower=[]\n",
    "upper=[]\n",
    "for i in str1:\n",
    "    if i.islower():\n",
    "        lower.append(i)\n",
    "    else:\n",
    "        upper.append(i)\n",
    "new_str=''.join(lower+upper)\n",
    "print(new_str)"
   ]
  },
  {
   "cell_type": "code",
   "execution_count": 19,
   "id": "f289ed1e",
   "metadata": {},
   "outputs": [
    {
     "name": "stdout",
     "output_type": "stream",
     "text": [
      "Chars : 8\n",
      "Digits : 3\n",
      "Symbols : 4\n"
     ]
    }
   ],
   "source": [
    "#Exercise 5: Count all letters, digits, and special symbols from a given string\n",
    "str1 = \"P@#yn26at^&i5ve\"\n",
    "chars=0\n",
    "digits=0\n",
    "symbols=0\n",
    "for char in str1:\n",
    "    if char.isalpha():\n",
    "        chars+=1\n",
    "    elif char.isdigit():\n",
    "        digits+=1\n",
    "    else:\n",
    "        symbols+=1\n",
    "        \n",
    "print(\"Chars :\",chars)\n",
    "print(\"Digits :\",digits)\n",
    "print(\"Symbols :\",symbols)"
   ]
  },
  {
   "cell_type": "code",
   "execution_count": 24,
   "id": "f9389a2f",
   "metadata": {},
   "outputs": [
    {
     "name": "stdout",
     "output_type": "stream",
     "text": [
      "AzbycX\n"
     ]
    }
   ],
   "source": [
    "#Exercise 6: Create a mixed String using the following rules\n",
    "def neww(s1, s2):\n",
    "    s3=\"\"\n",
    "    ind1=0\n",
    "    ind2=len(s2) - 1\n",
    "\n",
    "    while ind1<len(s1) and ind2>=0:\n",
    "        s3+=s1[ind1]\n",
    "        s3+=s2[ind2]\n",
    "        ind1+=1\n",
    "        ind2-=1\n",
    "\n",
    "    while ind1<len(s1):\n",
    "        s3+=s1[ind1]\n",
    "        ind1+=1\n",
    "\n",
    "    while ind2>=0:\n",
    "        s3+=s2[ind2]\n",
    "        ind2-=1\n",
    "\n",
    "    return s3\n",
    "\n",
    "s1 = \"Abc\"\n",
    "s2 = \"Xyz\"\n",
    "res=neww(s1,s2)\n",
    "print(res)\n"
   ]
  },
  {
   "cell_type": "code",
   "execution_count": null,
   "id": "6a822155",
   "metadata": {},
   "outputs": [],
   "source": [
    "#Exercise 7: String characters balance Test"
   ]
  }
 ],
 "metadata": {
  "kernelspec": {
   "display_name": "Python 3 (ipykernel)",
   "language": "python",
   "name": "python3"
  },
  "language_info": {
   "codemirror_mode": {
    "name": "ipython",
    "version": 3
   },
   "file_extension": ".py",
   "mimetype": "text/x-python",
   "name": "python",
   "nbconvert_exporter": "python",
   "pygments_lexer": "ipython3",
   "version": "3.10.9"
  }
 },
 "nbformat": 4,
 "nbformat_minor": 5
}
